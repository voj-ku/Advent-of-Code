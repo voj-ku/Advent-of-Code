{
 "cells": [
  {
   "cell_type": "code",
   "execution_count": 15,
   "metadata": {},
   "outputs": [],
   "source": [
    "with open('../Data/Day 1/input.txt') as f:\n",
    "    t = f.readlines()\n",
    "cals = [i.replace('\\n','') for i in r]"
   ]
  },
  {
   "cell_type": "code",
   "execution_count": 32,
   "metadata": {},
   "outputs": [
    {
     "data": {
      "text/plain": [
       "2248"
      ]
     },
     "execution_count": 32,
     "metadata": {},
     "output_type": "execute_result"
    }
   ],
   "source": [
    "len(cals)"
   ]
  },
  {
   "cell_type": "code",
   "execution_count": 29,
   "metadata": {},
   "outputs": [],
   "source": [
    "cal_carried = 0\n",
    "cal_max = 0\n",
    "cal_totals = []\n",
    "\n",
    "for cal in cals:\n",
    "    \n",
    "    if cal=='':\n",
    "        cal_totals.append(cal_carried)\n",
    "        cal=0\n",
    "\n",
    "    if type(cal) is str:\n",
    "        cal = int(cal)\n",
    "    \n",
    "    if cal == 0:\n",
    "        cal_carried = 0\n",
    "\n",
    "    cal_carried += cal\n",
    "\n",
    "    if cal_carried > cal_max:\n",
    "        \n",
    "        cal_max = cal_carried"
   ]
  },
  {
   "cell_type": "code",
   "execution_count": 38,
   "metadata": {},
   "outputs": [
    {
     "data": {
      "text/plain": [
       "197291"
      ]
     },
     "execution_count": 38,
     "metadata": {},
     "output_type": "execute_result"
    }
   ],
   "source": [
    "sum(sorted(cal_totals)[-3:])"
   ]
  }
 ],
 "metadata": {
  "kernelspec": {
   "display_name": "Python 3.9.7 64-bit",
   "language": "python",
   "name": "python3"
  },
  "language_info": {
   "codemirror_mode": {
    "name": "ipython",
    "version": 3
   },
   "file_extension": ".py",
   "mimetype": "text/x-python",
   "name": "python",
   "nbconvert_exporter": "python",
   "pygments_lexer": "ipython3",
   "version": "3.9.7"
  },
  "orig_nbformat": 4,
  "vscode": {
   "interpreter": {
    "hash": "31377535c44bfe8bf396159bd1983aa328ace000bc37c34ef2e21a4f67cf5ed2"
   }
  }
 },
 "nbformat": 4,
 "nbformat_minor": 2
}
